{
 "cells": [
  {
   "cell_type": "code",
   "execution_count": 73,
   "metadata": {},
   "outputs": [],
   "source": [
    "import pandas as pd"
   ]
  },
  {
   "cell_type": "code",
   "execution_count": 74,
   "metadata": {},
   "outputs": [],
   "source": [
    "excel_path = \"C:\\\\Users\\\\lenovo\\\\Desktop\\\\code\\\\Tendersoftware\\\\tender\\\\media\\\\signatures\\\\test_zo4capX.xlsx\"\n"
   ]
  },
  {
   "cell_type": "code",
   "execution_count": 75,
   "metadata": {},
   "outputs": [],
   "source": [
    "data = pd.read_excel(excel_path, engine='openpyxl')"
   ]
  },
  {
   "cell_type": "code",
   "execution_count": 76,
   "metadata": {},
   "outputs": [
    {
     "name": "stdout",
     "output_type": "stream",
     "text": [
      "      sn                            Item name              qty       fine  \\\n",
      "0    1.0  hemodylasis machine Freseinius 4008s               6  1615000.0   \n",
      "1    2.0                   dry weight machine                1   673000.0   \n",
      "2    3.0     r/o system ion exchange (1000lph)               1  1215000.0   \n",
      "3    4.0                civil renovation work                1   415000.0   \n",
      "4    5.0          Bi carbonate mixing machine                1   408000.0   \n",
      "5    6.0              digital weighing machine               5     4900.0   \n",
      "6    7.0               digital b p machine arm               2   265000.0   \n",
      "7    8.0                          55' smart tv               2    82000.0   \n",
      "8    9.0              5 function electric bed                6   125000.0   \n",
      "9   10.0           5 function patient monitor                6    87500.0   \n",
      "10  11.0               waiting chair 3 seater                1    16000.0   \n",
      "11  12.0                     lockable cabinet                1    43500.0   \n",
      "12  13.0                Glucometer - 100 strip               5     4000.0   \n",
      "13  14.0           hemoglobinometer - 25 strip               2    15800.0   \n",
      "14  15.0                           vein finder               1   184000.0   \n",
      "15  16.0                 dialyser reprocessing               1   760000.0   \n",
      "16  17.0                          fluid warmer               2    73000.0   \n",
      "17  18.0             sodium pottasium analyser               1   152000.0   \n",
      "18   NaN                                   NaN          Total         NaN   \n",
      "19   NaN                                   NaN             Vat        NaN   \n",
      "20   NaN                                   NaN  Total with vat        NaN   \n",
      "\n",
      "         amt  \n",
      "0    9690000  \n",
      "1     673000  \n",
      "2    1215000  \n",
      "3     415000  \n",
      "4     408000  \n",
      "5      24500  \n",
      "6     530000  \n",
      "7     164000  \n",
      "8     750000  \n",
      "9     525000  \n",
      "10     16000  \n",
      "11     43500  \n",
      "12     20000  \n",
      "13     31600  \n",
      "14    184000  \n",
      "15    760000  \n",
      "16    146000  \n",
      "17    152000  \n",
      "18  15747600  \n",
      "19   2047188  \n",
      "20  17794788  \n"
     ]
    }
   ],
   "source": [
    "print(data)"
   ]
  },
  {
   "cell_type": "code",
   "execution_count": 80,
   "metadata": {},
   "outputs": [
    {
     "name": "stdout",
     "output_type": "stream",
     "text": [
      "      sn                            Item name              qty     fine  \\\n",
      "0      1  hemodylasis machine Freseinius 4008s               6  1615000   \n",
      "1      2                   dry weight machine                1   673000   \n",
      "2      3     r/o system ion exchange (1000lph)               1  1215000   \n",
      "3      4                civil renovation work                1   415000   \n",
      "4      5          Bi carbonate mixing machine                1   408000   \n",
      "5      6              digital weighing machine               5     4900   \n",
      "6      7               digital b p machine arm               2   265000   \n",
      "7      8                          55' smart tv               2    82000   \n",
      "8      9              5 function electric bed                6   125000   \n",
      "9     10           5 function patient monitor                6    87500   \n",
      "10    11               waiting chair 3 seater                1    16000   \n",
      "11    12                     lockable cabinet                1    43500   \n",
      "12    13                Glucometer - 100 strip               5     4000   \n",
      "13    14           hemoglobinometer - 25 strip               2    15800   \n",
      "14    15                           vein finder               1   184000   \n",
      "15    16                 dialyser reprocessing               1   760000   \n",
      "16    17                          fluid warmer               2    73000   \n",
      "17    18             sodium pottasium analyser               1   152000   \n",
      "18  None                                  None          Total      None   \n",
      "19  None                                  None             Vat     None   \n",
      "20  None                                  None  Total with vat     None   \n",
      "\n",
      "         amt  \n",
      "0    9690000  \n",
      "1     673000  \n",
      "2    1215000  \n",
      "3     415000  \n",
      "4     408000  \n",
      "5      24500  \n",
      "6     530000  \n",
      "7     164000  \n",
      "8     750000  \n",
      "9     525000  \n",
      "10     16000  \n",
      "11     43500  \n",
      "12     20000  \n",
      "13     31600  \n",
      "14    184000  \n",
      "15    760000  \n",
      "16    146000  \n",
      "17    152000  \n",
      "18  15747600  \n",
      "19   2047188  \n",
      "20  17794788  \n"
     ]
    },
    {
     "name": "stderr",
     "output_type": "stream",
     "text": [
      "C:\\Users\\lenovo\\AppData\\Local\\Temp\\ipykernel_15272\\4188215428.py:2: FutureWarning: Downcasting object dtype arrays on .fillna, .ffill, .bfill is deprecated and will change in a future version. Call result.infer_objects(copy=False) instead. To opt-in to the future behavior, set `pd.set_option('future.no_silent_downcasting', True)`\n",
      "  data = data.fillna(np.nan)  # Use np.nan for numerical columns\n"
     ]
    }
   ],
   "source": [
    "import numpy as np\n",
    "data = data.fillna(np.nan)  # Use np.nan for numerical columns\n",
    "data = data.replace({pd.NA: None, np.nan: None})\n",
    "\n",
    "def format_value(x):\n",
    "    if isinstance(x, (float, int)):\n",
    "        # If decimal, show two places; otherwise, remove the decimal\n",
    "        return f\"{x:.2f}\" if x != int(x) else str(int(x))\n",
    "    return x\n",
    "\n",
    "# Apply formatting to all columns using a loop\n",
    "for col in data.columns:\n",
    "    data[col] = data[col].apply(format_value)\n",
    "\n",
    "\n",
    "print(data)"
   ]
  }
 ],
 "metadata": {
  "kernelspec": {
   "display_name": "Python 3",
   "language": "python",
   "name": "python3"
  },
  "language_info": {
   "codemirror_mode": {
    "name": "ipython",
    "version": 3
   },
   "file_extension": ".py",
   "mimetype": "text/x-python",
   "name": "python",
   "nbconvert_exporter": "python",
   "pygments_lexer": "ipython3",
   "version": "3.12.0"
  }
 },
 "nbformat": 4,
 "nbformat_minor": 2
}
